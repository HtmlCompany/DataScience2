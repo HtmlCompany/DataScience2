{
 "cells": [
  {
   "cell_type": "code",
   "execution_count": 88,
   "metadata": {},
   "outputs": [],
   "source": [
    "import numpy as np\n",
    "import pandas as pd\n",
    "import matplotlib.pyplot as plt"
   ]
  },
  {
   "cell_type": "code",
   "execution_count": 24,
   "metadata": {},
   "outputs": [
    {
     "name": "stdout",
     "output_type": "stream",
     "text": [
      "               Регіон  1950  1960  1970  1990  2000  2012  2014  2019\n",
      "0                Крим  23.0  20.6  16.0  13.0   7.3  12.6     —     —\n",
      "1           Вінницька  22.4  19.2  14.2  12.4   8.4  11.2  10.9   7.6\n",
      "2           Волинська  24.7  25.0  17.9  15.3  11.2  14.8  14.1  10.1\n",
      "3    Дніпропетровська  20.4  20.4  15.1  12.3   7.1  11.2  11.1   7.1\n",
      "4            Донецька  27.1  21.4  14.0  10.9   6.1   9.8   8.2     —\n",
      "5         Житомирська  26.1  22.3  15.9  12.9   8.9  12.2  12.0   7.9\n",
      "6        Закарпатська  31.4  27.3  20.7  16.8  11.5  15.1  14.6  10.4\n",
      "7          Запорізька  21.9  19.7  15.0  12.4   7.1  10.6  10.6   6.8\n",
      "8   Івано-Франківська  24.3  24.8  18.2  15.5  10.3  12.4  12.2   8.8\n",
      "9            Київська  20.4  18.9  15.6  12.3   7.3  12.2  12.1   8.0\n",
      "10     Кіровоградська  21.6  17.1  14.5  12.6   7.9  11.0  10.8   6.8\n",
      "11          Луганська  26.2  23.5  14.4  11.6   6.2   9.6   5.1     —\n",
      "12          Львівська  23.4  24.0  17.1  14.0   9.1  11.9  11.9   8.7\n",
      "13       Миколаївська  21.1  19.4  15.5  13.7   8.0  11.5  11.2   7.1\n",
      "14            Одеська  24.1  19.2  14.8  12.6   8.0  12.7  12.3   8.8\n",
      "15         Полтавська  18.6  16.3  13.1  11.8   7.0   9.9  10.0   6.5\n",
      "16         Рівненська  26.9  26.7  19.3  15.8  11.8  15.9  14.8  10.7\n",
      "17            Сумська  21.6  18.4  13.2  11.5   7.0   9.7   9.2   6.0\n",
      "18      Тернопільська  21.3  21.6  15.7  14.2   9.2  11.3  10.9   7.6\n",
      "19         Харківська  19.7  17.3  14.0  11.4   6.8   9.9  10.1   6.8\n",
      "20         Херсонська  20.8  21.4  16.6  14.3   8.5  11.7  11.5   8.1\n",
      "21        Хмельницька  23.4  19.8  14.8  12.9   8.5  11.3  11.2   7.9\n",
      "22          Черкаська  20.5  17.9  14.4  12.3   7.5  10.0   9.8   6.4\n",
      "23        Чернівецька  24.7  21.8  17.0  14.8  10.1  12.8  12.9   9.2\n",
      "24       Чернігівська  22.0  18.3  12.7  10.8   6.9   9.4   9.0   6.1\n",
      "25               Київ   NaN  17.4  15.9  12.0   7.3  12.0  12.1  11.0\n",
      "26        Севастополь   NaN   NaN   NaN  12.5   7.0  12.0     —     —\n",
      "27            Україна  22.8  20.5  15.2  12.6   7.8  11.4  11.1   8.1\n"
     ]
    }
   ],
   "source": [
    "# Task 1\n",
    "source = \"https://uk.wikipedia.org/wiki/%D0%9D%D0%B0%D1%81%D0%B5%D0%BB%D0%B5%D0%BD%D0%BD%D1%8F_%D0%A3%D0%BA%D1%80%D0%B0%D1%97%D0%BD%D0%B8\"\n",
    "df = pd.read_html(source, match='Коефіцієнт народжуваності в регіонах України', thousands=\".\", decimal=\",\")[0]\n",
    "print(df)"
   ]
  },
  {
   "cell_type": "code",
   "execution_count": 5,
   "metadata": {},
   "outputs": [
    {
     "name": "stdout",
     "output_type": "stream",
     "text": [
      "             Регіон  1950  1960  1970  1990  2000  2012  2014  2019\n",
      "0              Крим  23.0  20.6  16.0  13.0   7.3  12.6     —     —\n",
      "1         Вінницька  22.4  19.2  14.2  12.4   8.4  11.2  10.9   7.6\n",
      "2         Волинська  24.7  25.0  17.9  15.3  11.2  14.8  14.1  10.1\n",
      "3  Дніпропетровська  20.4  20.4  15.1  12.3   7.1  11.2  11.1   7.1\n",
      "4          Донецька  27.1  21.4  14.0  10.9   6.1   9.8   8.2     —\n"
     ]
    }
   ],
   "source": [
    "# Task 2\n",
    "df_1 = df.head()\n",
    "print(df_1)"
   ]
  },
  {
   "cell_type": "code",
   "execution_count": 6,
   "metadata": {},
   "outputs": [
    {
     "name": "stdout",
     "output_type": "stream",
     "text": [
      "               Регіон  1950  1960  1970  1990  2000  2012  2014  2019\n",
      "0                Крим  23.0  20.6  16.0  13.0   7.3  12.6   NaN   NaN\n",
      "1           Вінницька  22.4  19.2  14.2  12.4   8.4  11.2  10.9   7.6\n",
      "2           Волинська  24.7  25.0  17.9  15.3  11.2  14.8  14.1  10.1\n",
      "3    Дніпропетровська  20.4  20.4  15.1  12.3   7.1  11.2  11.1   7.1\n",
      "4            Донецька  27.1  21.4  14.0  10.9   6.1   9.8   8.2   NaN\n",
      "5         Житомирська  26.1  22.3  15.9  12.9   8.9  12.2  12.0   7.9\n",
      "6        Закарпатська  31.4  27.3  20.7  16.8  11.5  15.1  14.6  10.4\n",
      "7          Запорізька  21.9  19.7  15.0  12.4   7.1  10.6  10.6   6.8\n",
      "8   Івано-Франківська  24.3  24.8  18.2  15.5  10.3  12.4  12.2   8.8\n",
      "9            Київська  20.4  18.9  15.6  12.3   7.3  12.2  12.1   8.0\n",
      "10     Кіровоградська  21.6  17.1  14.5  12.6   7.9  11.0  10.8   6.8\n",
      "11          Луганська  26.2  23.5  14.4  11.6   6.2   9.6   5.1   NaN\n",
      "12          Львівська  23.4  24.0  17.1  14.0   9.1  11.9  11.9   8.7\n",
      "13       Миколаївська  21.1  19.4  15.5  13.7   8.0  11.5  11.2   7.1\n",
      "14            Одеська  24.1  19.2  14.8  12.6   8.0  12.7  12.3   8.8\n",
      "15         Полтавська  18.6  16.3  13.1  11.8   7.0   9.9  10.0   6.5\n",
      "16         Рівненська  26.9  26.7  19.3  15.8  11.8  15.9  14.8  10.7\n",
      "17            Сумська  21.6  18.4  13.2  11.5   7.0   9.7   9.2   6.0\n",
      "18      Тернопільська  21.3  21.6  15.7  14.2   9.2  11.3  10.9   7.6\n",
      "19         Харківська  19.7  17.3  14.0  11.4   6.8   9.9  10.1   6.8\n",
      "20         Херсонська  20.8  21.4  16.6  14.3   8.5  11.7  11.5   8.1\n",
      "21        Хмельницька  23.4  19.8  14.8  12.9   8.5  11.3  11.2   7.9\n",
      "22          Черкаська  20.5  17.9  14.4  12.3   7.5  10.0   9.8   6.4\n",
      "23        Чернівецька  24.7  21.8  17.0  14.8  10.1  12.8  12.9   9.2\n",
      "24       Чернігівська  22.0  18.3  12.7  10.8   6.9   9.4   9.0   6.1\n",
      "25               Київ   NaN  17.4  15.9  12.0   7.3  12.0  12.1  11.0\n",
      "26        Севастополь   NaN   NaN   NaN  12.5   7.0  12.0   NaN   NaN\n",
      "27            Україна  22.8  20.5  15.2  12.6   7.8  11.4  11.1   8.1\n"
     ]
    }
   ],
   "source": [
    "# Task 3\n",
    "df_2 = df.replace(\"—\", np.nan)\n",
    "print(df_2)"
   ]
  },
  {
   "cell_type": "code",
   "execution_count": 12,
   "metadata": {},
   "outputs": [
    {
     "name": "stdout",
     "output_type": "stream",
     "text": [
      "Регіон     object\n",
      "1950      float64\n",
      "1960      float64\n",
      "1970      float64\n",
      "1990      float64\n",
      "2000      float64\n",
      "2012      float64\n",
      "2014       object\n",
      "2019       object\n",
      "dtype: object\n"
     ]
    }
   ],
   "source": [
    "# Task 4\n",
    "df_3 = df.dtypes\n",
    "print(df_3)"
   ]
  },
  {
   "cell_type": "code",
   "execution_count": 59,
   "metadata": {},
   "outputs": [
    {
     "name": "stdout",
     "output_type": "stream",
     "text": [
      "               Регіон  1950  1960  1970  1990  2000  2012  2014  2019\n",
      "0                Крим  23.0  20.6  16.0  13.0   7.3  12.6   NaN   NaN\n",
      "1           Вінницька  22.4  19.2  14.2  12.4   8.4  11.2  10.9   7.6\n",
      "2           Волинська  24.7  25.0  17.9  15.3  11.2  14.8  14.1  10.1\n",
      "3    Дніпропетровська  20.4  20.4  15.1  12.3   7.1  11.2  11.1   7.1\n",
      "4            Донецька  27.1  21.4  14.0  10.9   6.1   9.8   8.2   NaN\n",
      "5         Житомирська  26.1  22.3  15.9  12.9   8.9  12.2  12.0   7.9\n",
      "6        Закарпатська  31.4  27.3  20.7  16.8  11.5  15.1  14.6  10.4\n",
      "7          Запорізька  21.9  19.7  15.0  12.4   7.1  10.6  10.6   6.8\n",
      "8   Івано-Франківська  24.3  24.8  18.2  15.5  10.3  12.4  12.2   8.8\n",
      "9            Київська  20.4  18.9  15.6  12.3   7.3  12.2  12.1   8.0\n",
      "10     Кіровоградська  21.6  17.1  14.5  12.6   7.9  11.0  10.8   6.8\n",
      "11          Луганська  26.2  23.5  14.4  11.6   6.2   9.6   5.1   NaN\n",
      "12          Львівська  23.4  24.0  17.1  14.0   9.1  11.9  11.9   8.7\n",
      "13       Миколаївська  21.1  19.4  15.5  13.7   8.0  11.5  11.2   7.1\n",
      "14            Одеська  24.1  19.2  14.8  12.6   8.0  12.7  12.3   8.8\n",
      "15         Полтавська  18.6  16.3  13.1  11.8   7.0   9.9  10.0   6.5\n",
      "16         Рівненська  26.9  26.7  19.3  15.8  11.8  15.9  14.8  10.7\n",
      "17            Сумська  21.6  18.4  13.2  11.5   7.0   9.7   9.2   6.0\n",
      "18      Тернопільська  21.3  21.6  15.7  14.2   9.2  11.3  10.9   7.6\n",
      "19         Харківська  19.7  17.3  14.0  11.4   6.8   9.9  10.1   6.8\n",
      "20         Херсонська  20.8  21.4  16.6  14.3   8.5  11.7  11.5   8.1\n",
      "21        Хмельницька  23.4  19.8  14.8  12.9   8.5  11.3  11.2   7.9\n",
      "22          Черкаська  20.5  17.9  14.4  12.3   7.5  10.0   9.8   6.4\n",
      "23        Чернівецька  24.7  21.8  17.0  14.8  10.1  12.8  12.9   9.2\n",
      "24       Чернігівська  22.0  18.3  12.7  10.8   6.9   9.4   9.0   6.1\n",
      "25               Київ   NaN  17.4  15.9  12.0   7.3  12.0  12.1  11.0\n",
      "26        Севастополь   NaN   NaN   NaN  12.5   7.0  12.0   NaN   NaN\n",
      "27            Україна  22.8  20.5  15.2  12.6   7.8  11.4  11.1   8.1\n"
     ]
    }
   ],
   "source": [
    "# Task 5\n",
    "df_4 = df_2.replace(\"—\", 0)\n",
    "df_4[[\"2014\", \"2019\"]] = df_4[[\"2014\", \"2019\"]].astype(float)\n",
    "print(df_4)"
   ]
  },
  {
   "cell_type": "code",
   "execution_count": 22,
   "metadata": {},
   "outputs": [
    {
     "name": "stdout",
     "output_type": "stream",
     "text": [
      "    Регіон   1950   1960   1970   1990   2000   2012   2014   2019\n",
      "0    False  False  False  False  False  False  False   True   True\n",
      "1    False  False  False  False  False  False  False  False  False\n",
      "2    False  False  False  False  False  False  False  False  False\n",
      "3    False  False  False  False  False  False  False  False  False\n",
      "4    False  False  False  False  False  False  False  False   True\n",
      "5    False  False  False  False  False  False  False  False  False\n",
      "6    False  False  False  False  False  False  False  False  False\n",
      "7    False  False  False  False  False  False  False  False  False\n",
      "8    False  False  False  False  False  False  False  False  False\n",
      "9    False  False  False  False  False  False  False  False  False\n",
      "10   False  False  False  False  False  False  False  False  False\n",
      "11   False  False  False  False  False  False  False  False   True\n",
      "12   False  False  False  False  False  False  False  False  False\n",
      "13   False  False  False  False  False  False  False  False  False\n",
      "14   False  False  False  False  False  False  False  False  False\n",
      "15   False  False  False  False  False  False  False  False  False\n",
      "16   False  False  False  False  False  False  False  False  False\n",
      "17   False  False  False  False  False  False  False  False  False\n",
      "18   False  False  False  False  False  False  False  False  False\n",
      "19   False  False  False  False  False  False  False  False  False\n",
      "20   False  False  False  False  False  False  False  False  False\n",
      "21   False  False  False  False  False  False  False  False  False\n",
      "22   False  False  False  False  False  False  False  False  False\n",
      "23   False  False  False  False  False  False  False  False  False\n",
      "24   False  False  False  False  False  False  False  False  False\n",
      "25   False   True  False  False  False  False  False  False  False\n",
      "26   False   True   True   True  False  False  False   True   True\n",
      "27   False  False  False  False  False  False  False  False  False\n",
      "Регіон    0\n",
      "1950      2\n",
      "1960      1\n",
      "1970      1\n",
      "1990      0\n",
      "2000      0\n",
      "2012      0\n",
      "2014      2\n",
      "2019      4\n",
      "dtype: int64\n"
     ]
    }
   ],
   "source": [
    "# Task 6\n",
    "df_5 = df_2.isnull()\n",
    "print(df_5)\n",
    "print(df_5.sum())"
   ]
  },
  {
   "cell_type": "code",
   "execution_count": 27,
   "metadata": {},
   "outputs": [
    {
     "name": "stdout",
     "output_type": "stream",
     "text": [
      "               Регіон  1950  1960  1970  1990  2000  2012  2014  2019\n",
      "0                Крим  23.0  20.6  16.0  13.0   7.3  12.6   NaN   NaN\n",
      "1           Вінницька  22.4  19.2  14.2  12.4   8.4  11.2  10.9   7.6\n",
      "2           Волинська  24.7  25.0  17.9  15.3  11.2  14.8  14.1  10.1\n",
      "3    Дніпропетровська  20.4  20.4  15.1  12.3   7.1  11.2  11.1   7.1\n",
      "4            Донецька  27.1  21.4  14.0  10.9   6.1   9.8   8.2   NaN\n",
      "5         Житомирська  26.1  22.3  15.9  12.9   8.9  12.2  12.0   7.9\n",
      "6        Закарпатська  31.4  27.3  20.7  16.8  11.5  15.1  14.6  10.4\n",
      "7          Запорізька  21.9  19.7  15.0  12.4   7.1  10.6  10.6   6.8\n",
      "8   Івано-Франківська  24.3  24.8  18.2  15.5  10.3  12.4  12.2   8.8\n",
      "9            Київська  20.4  18.9  15.6  12.3   7.3  12.2  12.1   8.0\n",
      "10     Кіровоградська  21.6  17.1  14.5  12.6   7.9  11.0  10.8   6.8\n",
      "11          Луганська  26.2  23.5  14.4  11.6   6.2   9.6   5.1   NaN\n",
      "12          Львівська  23.4  24.0  17.1  14.0   9.1  11.9  11.9   8.7\n",
      "13       Миколаївська  21.1  19.4  15.5  13.7   8.0  11.5  11.2   7.1\n",
      "14            Одеська  24.1  19.2  14.8  12.6   8.0  12.7  12.3   8.8\n",
      "15         Полтавська  18.6  16.3  13.1  11.8   7.0   9.9  10.0   6.5\n",
      "16         Рівненська  26.9  26.7  19.3  15.8  11.8  15.9  14.8  10.7\n",
      "17            Сумська  21.6  18.4  13.2  11.5   7.0   9.7   9.2   6.0\n",
      "18      Тернопільська  21.3  21.6  15.7  14.2   9.2  11.3  10.9   7.6\n",
      "19         Харківська  19.7  17.3  14.0  11.4   6.8   9.9  10.1   6.8\n",
      "20         Херсонська  20.8  21.4  16.6  14.3   8.5  11.7  11.5   8.1\n",
      "21        Хмельницька  23.4  19.8  14.8  12.9   8.5  11.3  11.2   7.9\n",
      "22          Черкаська  20.5  17.9  14.4  12.3   7.5  10.0   9.8   6.4\n",
      "23        Чернівецька  24.7  21.8  17.0  14.8  10.1  12.8  12.9   9.2\n",
      "24       Чернігівська  22.0  18.3  12.7  10.8   6.9   9.4   9.0   6.1\n",
      "25               Київ   NaN  17.4  15.9  12.0   7.3  12.0  12.1  11.0\n",
      "26        Севастополь   NaN   NaN   NaN  12.5   7.0  12.0   NaN   NaN\n"
     ]
    }
   ],
   "source": [
    "# Task 7\n",
    "df_6 = df_2.drop([27])\n",
    "print(df_6)"
   ]
  },
  {
   "cell_type": "code",
   "execution_count": 60,
   "metadata": {},
   "outputs": [
    {
     "name": "stdout",
     "output_type": "stream",
     "text": [
      "               Регіон       1950       1960       1970  1990  2000  2012  \\\n",
      "0                Крим  23.000000  20.600000  16.000000  13.0   7.3  12.6   \n",
      "1           Вінницька  22.400000  19.200000  14.200000  12.4   8.4  11.2   \n",
      "2           Волинська  24.700000  25.000000  17.900000  15.3  11.2  14.8   \n",
      "3    Дніпропетровська  20.400000  20.400000  15.100000  12.3   7.1  11.2   \n",
      "4            Донецька  27.100000  21.400000  14.000000  10.9   6.1   9.8   \n",
      "5         Житомирська  26.100000  22.300000  15.900000  12.9   8.9  12.2   \n",
      "6        Закарпатська  31.400000  27.300000  20.700000  16.8  11.5  15.1   \n",
      "7          Запорізька  21.900000  19.700000  15.000000  12.4   7.1  10.6   \n",
      "8   Івано-Франківська  24.300000  24.800000  18.200000  15.5  10.3  12.4   \n",
      "9            Київська  20.400000  18.900000  15.600000  12.3   7.3  12.2   \n",
      "10     Кіровоградська  21.600000  17.100000  14.500000  12.6   7.9  11.0   \n",
      "11          Луганська  26.200000  23.500000  14.400000  11.6   6.2   9.6   \n",
      "12          Львівська  23.400000  24.000000  17.100000  14.0   9.1  11.9   \n",
      "13       Миколаївська  21.100000  19.400000  15.500000  13.7   8.0  11.5   \n",
      "14            Одеська  24.100000  19.200000  14.800000  12.6   8.0  12.7   \n",
      "15         Полтавська  18.600000  16.300000  13.100000  11.8   7.0   9.9   \n",
      "16         Рівненська  26.900000  26.700000  19.300000  15.8  11.8  15.9   \n",
      "17            Сумська  21.600000  18.400000  13.200000  11.5   7.0   9.7   \n",
      "18      Тернопільська  21.300000  21.600000  15.700000  14.2   9.2  11.3   \n",
      "19         Харківська  19.700000  17.300000  14.000000  11.4   6.8   9.9   \n",
      "20         Херсонська  20.800000  21.400000  16.600000  14.3   8.5  11.7   \n",
      "21        Хмельницька  23.400000  19.800000  14.800000  12.9   8.5  11.3   \n",
      "22          Черкаська  20.500000  17.900000  14.400000  12.3   7.5  10.0   \n",
      "23        Чернівецька  24.700000  21.800000  17.000000  14.8  10.1  12.8   \n",
      "24       Чернігівська  22.000000  18.300000  12.700000  10.8   6.9   9.4   \n",
      "25               Київ  23.092308  17.400000  15.900000  12.0   7.3  12.0   \n",
      "26        Севастополь  23.092308  20.748148  15.585185  12.5   7.0  12.0   \n",
      "27            Україна  22.800000  20.500000  15.200000  12.6   7.8  11.4   \n",
      "\n",
      "         2014       2019  \n",
      "0   11.142308   8.020833  \n",
      "1   10.900000   7.600000  \n",
      "2   14.100000  10.100000  \n",
      "3   11.100000   7.100000  \n",
      "4    8.200000   8.020833  \n",
      "5   12.000000   7.900000  \n",
      "6   14.600000  10.400000  \n",
      "7   10.600000   6.800000  \n",
      "8   12.200000   8.800000  \n",
      "9   12.100000   8.000000  \n",
      "10  10.800000   6.800000  \n",
      "11   5.100000   8.020833  \n",
      "12  11.900000   8.700000  \n",
      "13  11.200000   7.100000  \n",
      "14  12.300000   8.800000  \n",
      "15  10.000000   6.500000  \n",
      "16  14.800000  10.700000  \n",
      "17   9.200000   6.000000  \n",
      "18  10.900000   7.600000  \n",
      "19  10.100000   6.800000  \n",
      "20  11.500000   8.100000  \n",
      "21  11.200000   7.900000  \n",
      "22   9.800000   6.400000  \n",
      "23  12.900000   9.200000  \n",
      "24   9.000000   6.100000  \n",
      "25  12.100000  11.000000  \n",
      "26  11.142308   8.020833  \n",
      "27  11.100000   8.100000  \n"
     ]
    }
   ],
   "source": [
    "# Task 8\n",
    "df_7 = df_4.fillna({\"1950\": df_4[\"1950\"].mean(),\n",
    "                    \"1960\": df_4[\"1960\"].mean(),\n",
    "                    \"1970\": df_4[\"1970\"].mean(),\n",
    "                    \"2014\": df_4[\"2014\"].mean(),\n",
    "                    \"2019\": df_4[\"2019\"].mean()})\n",
    "print(df_7)"
   ]
  },
  {
   "cell_type": "code",
   "execution_count": 81,
   "metadata": {},
   "outputs": [
    {
     "name": "stdout",
     "output_type": "stream",
     "text": [
      "               Регіон  2019\n",
      "2           Волинська  10.1\n",
      "6        Закарпатська  10.4\n",
      "8   Івано-Франківська   8.8\n",
      "12          Львівська   8.7\n",
      "14            Одеська   8.8\n",
      "16         Рівненська  10.7\n",
      "23        Чернівецька   9.2\n",
      "25               Київ  11.0\n"
     ]
    }
   ],
   "source": [
    "# Task 9\n",
    "df_8 = df_7[[\"Регіон\", \"2019\"]]\n",
    "srt = df_8[df_8[\"2019\"] > 8.1]\n",
    "print(srt)"
   ]
  },
  {
   "cell_type": "code",
   "execution_count": 86,
   "metadata": {},
   "outputs": [
    {
     "name": "stdout",
     "output_type": "stream",
     "text": [
      "Регіон    Чернігівська\n",
      "2014              14.8\n",
      "dtype: object\n"
     ]
    }
   ],
   "source": [
    "# Task 10\n",
    "df_9 = df_7[[\"Регіон\", \"2014\"]]\n",
    "print(df_9.max())"
   ]
  },
  {
   "cell_type": "code",
   "execution_count": 111,
   "metadata": {},
   "outputs": [
    {
     "data": {
      "image/png": "[encoded data removed]",
      "text/plain": [
       "<Figure size 2500x700 with 1 Axes>"
      ]
     },
     "metadata": {},
     "output_type": "display_data"
    }
   ],
   "source": [
    "# Task 11\n",
    "df_10 = df_7[[\"Регіон\", \"2019\"]]\n",
    "#print(df_10)\n",
    "fig, ax = plt.subplots()\n",
    "coef = df_10[\"2019\"]\n",
    "cityes = df_10[\"Регіон\"]\n",
    "\n",
    "fig.set_figwidth(25)\n",
    "fig.set_figheight(7)\n",
    "ax.set_ylabel('Коефіцієнт, %')\n",
    "ax.bar(cityes, coef)\n",
    "plt.show()"
   ]
  }
 ],
 "metadata": {
  "kernelspec": {
   "display_name": "Python 3",
   "language": "python",
   "name": "python3"
  },
  "language_info": {
   "codemirror_mode": {
    "name": "ipython",
    "version": 3
   },
   "file_extension": ".py",
   "mimetype": "text/x-python",
   "name": "python",
   "nbconvert_exporter": "python",
   "pygments_lexer": "ipython3",
   "version": "3.12.2"
  }
 },
 "nbformat": 4,
 "nbformat_minor": 2
}
