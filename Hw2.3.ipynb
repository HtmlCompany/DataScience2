{
 "cells": [
  {
   "cell_type": "code",
   "execution_count": 1,
   "metadata": {},
   "outputs": [],
   "source": [
    "import numpy as np\n",
    "import pandas as pd\n",
    "import matplotlib.pyplot as plt"
   ]
  },
  {
   "cell_type": "code",
   "execution_count": 2,
   "metadata": {},
   "outputs": [
    {
     "name": "stdout",
     "output_type": "stream",
     "text": [
      "                                                  Name  \\\n",
      "0                        10-Day Green Smoothie Cleanse   \n",
      "1                                    11/22/63: A Novel   \n",
      "2              12 Rules for Life: An Antidote to Chaos   \n",
      "3                               1984 (Signet Classics)   \n",
      "4    5,000 Awesome Facts (About Everything!) (Natio...   \n",
      "..                                                 ...   \n",
      "545       Wrecking Ball (Diary of a Wimpy Kid Book 14)   \n",
      "546  You Are a Badass: How to Stop Doubting Your Gr...   \n",
      "547  You Are a Badass: How to Stop Doubting Your Gr...   \n",
      "548  You Are a Badass: How to Stop Doubting Your Gr...   \n",
      "549  You Are a Badass: How to Stop Doubting Your Gr...   \n",
      "\n",
      "                       Author  User Rating  Reviews  Price  Year        Genre  \n",
      "0                    JJ Smith          4.7    17350      8  2016  Non Fiction  \n",
      "1                Stephen King          4.6     2052     22  2011      Fiction  \n",
      "2          Jordan B. Peterson          4.7    18979     15  2018  Non Fiction  \n",
      "3               George Orwell          4.7    21424      6  2017      Fiction  \n",
      "4    National Geographic Kids          4.8     7665     12  2019  Non Fiction  \n",
      "..                        ...          ...      ...    ...   ...          ...  \n",
      "545               Jeff Kinney          4.9     9413      8  2019      Fiction  \n",
      "546               Jen Sincero          4.7    14331      8  2016  Non Fiction  \n",
      "547               Jen Sincero          4.7    14331      8  2017  Non Fiction  \n",
      "548               Jen Sincero          4.7    14331      8  2018  Non Fiction  \n",
      "549               Jen Sincero          4.7    14331      8  2019  Non Fiction  \n",
      "\n",
      "[550 rows x 7 columns]\n"
     ]
    }
   ],
   "source": [
    "# Task 1\n",
    "data = pd.read_csv(\"bestsellers with categories.xls\")\n",
    "print(data)\n"
   ]
  },
  {
   "cell_type": "code",
   "execution_count": 3,
   "metadata": {},
   "outputs": [
    {
     "name": "stdout",
     "output_type": "stream",
     "text": [
      "                                                Name  \\\n",
      "0                      10-Day Green Smoothie Cleanse   \n",
      "1                                  11/22/63: A Novel   \n",
      "2            12 Rules for Life: An Antidote to Chaos   \n",
      "3                             1984 (Signet Classics)   \n",
      "4  5,000 Awesome Facts (About Everything!) (Natio...   \n",
      "\n",
      "                     Author  User Rating  Reviews  Price  Year        Genre  \n",
      "0                  JJ Smith          4.7    17350      8  2016  Non Fiction  \n",
      "1              Stephen King          4.6     2052     22  2011      Fiction  \n",
      "2        Jordan B. Peterson          4.7    18979     15  2018  Non Fiction  \n",
      "3             George Orwell          4.7    21424      6  2017      Fiction  \n",
      "4  National Geographic Kids          4.8     7665     12  2019  Non Fiction  \n"
     ]
    }
   ],
   "source": [
    "# Task 2\n",
    "print(data.head())"
   ]
  },
  {
   "cell_type": "code",
   "execution_count": 4,
   "metadata": {},
   "outputs": [
    {
     "name": "stdout",
     "output_type": "stream",
     "text": [
      "(550, 7)\n"
     ]
    },
    {
     "data": {
      "text/plain": [
       "550"
      ]
     },
     "execution_count": 4,
     "metadata": {},
     "output_type": "execute_result"
    }
   ],
   "source": [
    "# Task 3\n",
    "print(data.shape)\n",
    "\n",
    "#Про скільки книг зберігає дані датасет?\n",
    "550"
   ]
  },
  {
   "cell_type": "code",
   "execution_count": 5,
   "metadata": {},
   "outputs": [
    {
     "name": "stdout",
     "output_type": "stream",
     "text": [
      "name           0\n",
      "author         0\n",
      "user_rating    0\n",
      "reviews        0\n",
      "price          0\n",
      "year           0\n",
      "genre          0\n",
      "dtype: int64\n"
     ]
    }
   ],
   "source": [
    "data.columns = ['name', 'author', 'user_rating', 'reviews', 'price', 'year', 'genre']\n",
    "# Task 4\n",
    "na = data.isna()\n",
    "na = na.sum()\n",
    "print(na)\n",
    "# Чи є в якихось змінних пропуски? (Так / ні)\n",
    "# Ні"
   ]
  },
  {
   "cell_type": "code",
   "execution_count": 6,
   "metadata": {},
   "outputs": [
    {
     "name": "stdout",
     "output_type": "stream",
     "text": [
      "['Non Fiction' 'Fiction']\n"
     ]
    }
   ],
   "source": [
    "print(data[\"genre\"].unique())\n",
    "# Які є унікальні жанри?\n",
    "# Non Fiction, Fiction"
   ]
  },
  {
   "cell_type": "code",
   "execution_count": 7,
   "metadata": {},
   "outputs": [
    {
     "name": "stdout",
     "output_type": "stream",
     "text": [
      "Min price: 0\n",
      "Max price: 105\n",
      "Avg price: 13.1\n",
      "Median price: 11.0\n"
     ]
    },
    {
     "data": {
      "image/png": "[encoded data removed]",
      "text/plain": [
       "<Figure size 640x480 with 1 Axes>"
      ]
     },
     "metadata": {},
     "output_type": "display_data"
    },
    {
     "data": {
      "text/plain": [
       "'\\nМаксимальна ціна?\\nMax price: 105\\n\\nМінімальна ціна?\\nMin price: 0\\n\\nСередня ціна?\\nAvg price: 13.1\\n\\nМедіанна ціна?\\nMedian price: 11.0\\n'"
      ]
     },
     "execution_count": 7,
     "metadata": {},
     "output_type": "execute_result"
    }
   ],
   "source": [
    "# Task 5\n",
    "#print(data[\"price\"])\n",
    "plt.xlabel(\"Price\")\n",
    "plt.ylabel(\"Books\")\n",
    "min_price = data[\"price\"].min()\n",
    "max_price = data[\"price\"].max()\n",
    "medium_price = data[\"price\"].mean()\n",
    "median_price = data[\"price\"].median()\n",
    "print(f\"Min price: {min_price}\")\n",
    "print(f\"Max price: {max_price}\")\n",
    "print(f\"Avg price: {medium_price}\")\n",
    "print(f\"Median price: {median_price}\")\n",
    "plt.hist(data[\"price\"])\n",
    "plt.show()\n",
    "'''\n",
    "Максимальна ціна?\n",
    "Max price: 105\n",
    "\n",
    "Мінімальна ціна?\n",
    "Min price: 0\n",
    "\n",
    "Середня ціна?\n",
    "Avg price: 13.1\n",
    "\n",
    "Медіанна ціна?\n",
    "Median price: 11.0\n",
    "'''\n"
   ]
  },
  {
   "cell_type": "code",
   "execution_count": 8,
   "metadata": {},
   "outputs": [
    {
     "name": "stdout",
     "output_type": "stream",
     "text": [
      "Max user rating: 4.9\n",
      "Books with user rating 4.9: 52\n",
      "Book with max count reviews: 534    Where the Crawdads Sing\n",
      "Name: name, dtype: object\n",
      "Max price book in top 50 2015 year: 46\n",
      "Books with genre Fiction and year 2010: 20\n"
     ]
    }
   ],
   "source": [
    "# Task 6\n",
    "df = data[\"user_rating\"]\n",
    "print(f\"Max user rating: {df.max()}\")\n",
    "\n",
    "df_2 = data[data[\"user_rating\"] == 4.9]\n",
    "print(f\"Books with user rating {df.max()}: {df_2.shape[0]}\")\n",
    "\n",
    "df_3 = data[\"reviews\"].max()\n",
    "print(f\"Book with max count reviews: {data[data[\"reviews\"] == df_3].name}\")\n",
    "\n",
    "df_4 = data[data[\"year\"] == 2015]\n",
    "print(f\"Max price book in top 50 2015 year: {df_4[\"price\"].max()}\")\n",
    "\n",
    "df_5 = data[(data.year == 2010) & (data.genre == \"Fiction\")]\n",
    "print(f\"Books with genre Fiction and year 2010: {df_5.shape[0]}\")"
   ]
  },
  {
   "cell_type": "code",
   "execution_count": 9,
   "metadata": {},
   "outputs": [
    {
     "name": "stdout",
     "output_type": "stream",
     "text": [
      "Books with rating 4.9 and year 2010 or 2011: 1\n"
     ]
    }
   ],
   "source": [
    "# Task 7\n",
    "df_6 = data[((data.year == 2010) | (data.year == 2011)) & (data.user_rating == 4.9)]\n",
    "print(f\"Books with rating 4.9 and year 2010 or 2011: {df_6.shape[0]}\")"
   ]
  },
  {
   "cell_type": "code",
   "execution_count": 10,
   "metadata": {},
   "outputs": [
    {
     "name": "stdout",
     "output_type": "stream",
     "text": [
      "name           Adult Coloring Book: Stress Relieving Animal D...\n",
      "author                                               B. J. Novak\n",
      "user_rating                                                  4.4\n",
      "reviews                                                     2134\n",
      "price                                                          0\n",
      "year                                                        2015\n",
      "genre                                                    Fiction\n",
      "dtype: object\n"
     ]
    }
   ],
   "source": [
    "df_8 = data[(data.year == 2015) & (data.price <= 8)]\n",
    "df_8.sort_values(by='price', ascending=True)\n",
    "print(f\"{df_8.min()}\")"
   ]
  },
  {
   "cell_type": "code",
   "execution_count": 18,
   "metadata": {},
   "outputs": [
    {
     "data": {
      "text/plain": [
       "'\\nЯкий рейтинг у датасеті найвищий? Відповідь:\\nMax user rating: 4.9\\n\\nСкільки книг мають такий рейтинг? Відповідь:\\nBooks with user rating 4.9: 52\\n\\nЯка книга має найбільше відгуків? Відповідь:\\nBook with max count reviews: Where the Crawdads Sing\\n\\nЗ тих книг, що потрапили до Топ-50 у 2015 році, яка книга найдорожча ? Відповідь:\\nMax price book in top 50 2015 year: 46\\n\\nСкільки книг жанру Fiction потрапили до Топ-50 у 2010 році ? Відповідь:\\nBooks with genre Fiction and year 2010: 20\\n\\nСкільки книг з рейтингом 4.9 потрапило до рейтингу у 2010 та 2011 роках ? Відповідь:\\nBooks with rating 4.9 and year 2010 or 2011: 1\\n\\nЯкі потрапили до рейтингу в 2015 році і коштують дешевше за 8 доларів ? Яка книга остання у відсортованому списку? Відповідь:\\nAdult Coloring Book: Stress Relieving Animal\\n'"
      ]
     },
     "execution_count": 18,
     "metadata": {},
     "output_type": "execute_result"
    }
   ],
   "source": [
    "\"\"\"\n",
    "Який рейтинг у датасеті найвищий? Відповідь:\n",
    "Max user rating: 4.9\n",
    "\n",
    "Скільки книг мають такий рейтинг? Відповідь:\n",
    "Books with user rating 4.9: 52\n",
    "\n",
    "Яка книга має найбільше відгуків? Відповідь:\n",
    "Book with max count reviews: Where the Crawdads Sing\n",
    "\n",
    "З тих книг, що потрапили до Топ-50 у 2015 році, яка книга найдорожча ? Відповідь:\n",
    "Max price book in top 50 2015 year: 46\n",
    "\n",
    "Скільки книг жанру Fiction потрапили до Топ-50 у 2010 році ? Відповідь:\n",
    "Books with genre Fiction and year 2010: 20\n",
    "\n",
    "Скільки книг з рейтингом 4.9 потрапило до рейтингу у 2010 та 2011 роках ? Відповідь:\n",
    "Books with rating 4.9 and year 2010 or 2011: 1\n",
    "\n",
    "Які потрапили до рейтингу в 2015 році і коштують дешевше за 8 доларів ? Яка книга остання у відсортованому списку? Відповідь:\n",
    "Adult Coloring Book: Stress Relieving Animal\n",
    "\"\"\""
   ]
  },
  {
   "cell_type": "code",
   "execution_count": 11,
   "metadata": {},
   "outputs": [
    {
     "name": "stdout",
     "output_type": "stream",
     "text": [
      "                                    count\n",
      "author                                   \n",
      "Jill Twiss                              1\n",
      "Patrick Thorpe                          1\n",
      "Ian K. Smith M.D.                       1\n",
      "Howard Stern                            1\n",
      "Hopscotch Girls                         1\n",
      "...                                   ...\n",
      "American Psychological Association     10\n",
      "Suzanne Collins                        11\n",
      "Gary Chapman                           11\n",
      "Rick Riordan                           11\n",
      "Jeff Kinney                            12\n",
      "\n",
      "[248 rows x 1 columns]\n"
     ]
    }
   ],
   "source": [
    "df_9 = data.groupby(\"author\").agg(['count']).name\n",
    "print(df_9.sort_values('count'))"
   ]
  },
  {
   "cell_type": "code",
   "execution_count": 12,
   "metadata": {},
   "outputs": [
    {
     "name": "stdout",
     "output_type": "stream",
     "text": [
      "             count\n",
      "author            \n",
      "Jeff Kinney     12\n"
     ]
    }
   ],
   "source": [
    "#Який автор має найбільше книг?\n",
    "print(df_9.loc[df_9.idxmax()])"
   ]
  },
  {
   "cell_type": "code",
   "execution_count": 14,
   "metadata": {},
   "outputs": [
    {
     "data": {
      "text/html": [
       "<div>\n",
       "<style scoped>\n",
       "    .dataframe tbody tr th:only-of-type {\n",
       "        vertical-align: middle;\n",
       "    }\n",
       "\n",
       "    .dataframe tbody tr th {\n",
       "        vertical-align: top;\n",
       "    }\n",
       "\n",
       "    .dataframe thead th {\n",
       "        text-align: right;\n",
       "    }\n",
       "</style>\n",
       "<table border=\"1\" class=\"dataframe\">\n",
       "  <thead>\n",
       "    <tr style=\"text-align: right;\">\n",
       "      <th></th>\n",
       "      <th>mean</th>\n",
       "    </tr>\n",
       "    <tr>\n",
       "      <th>author</th>\n",
       "      <th></th>\n",
       "    </tr>\n",
       "  </thead>\n",
       "  <tbody>\n",
       "    <tr>\n",
       "      <th>Patrick Thorpe</th>\n",
       "      <td>4.9</td>\n",
       "    </tr>\n",
       "    <tr>\n",
       "      <th>Lin-Manuel Miranda</th>\n",
       "      <td>4.9</td>\n",
       "    </tr>\n",
       "    <tr>\n",
       "      <th>Chip Gaines</th>\n",
       "      <td>4.9</td>\n",
       "    </tr>\n",
       "    <tr>\n",
       "      <th>Sherri Duskey Rinker</th>\n",
       "      <td>4.9</td>\n",
       "    </tr>\n",
       "    <tr>\n",
       "      <th>Nathan W. Pyle</th>\n",
       "      <td>4.9</td>\n",
       "    </tr>\n",
       "    <tr>\n",
       "      <th>...</th>\n",
       "      <td>...</td>\n",
       "    </tr>\n",
       "    <tr>\n",
       "      <th>Paula Hawkins</th>\n",
       "      <td>4.1</td>\n",
       "    </tr>\n",
       "    <tr>\n",
       "      <th>Muriel Barbery</th>\n",
       "      <td>4.0</td>\n",
       "    </tr>\n",
       "    <tr>\n",
       "      <th>Gillian Flynn</th>\n",
       "      <td>4.0</td>\n",
       "    </tr>\n",
       "    <tr>\n",
       "      <th>Gallup</th>\n",
       "      <td>4.0</td>\n",
       "    </tr>\n",
       "    <tr>\n",
       "      <th>Donna Tartt</th>\n",
       "      <td>3.9</td>\n",
       "    </tr>\n",
       "  </tbody>\n",
       "</table>\n",
       "<p>248 rows × 1 columns</p>\n",
       "</div>"
      ],
      "text/plain": [
       "                      mean\n",
       "author                    \n",
       "Patrick Thorpe         4.9\n",
       "Lin-Manuel Miranda     4.9\n",
       "Chip Gaines            4.9\n",
       "Sherri Duskey Rinker   4.9\n",
       "Nathan W. Pyle         4.9\n",
       "...                    ...\n",
       "Paula Hawkins          4.1\n",
       "Muriel Barbery         4.0\n",
       "Gillian Flynn          4.0\n",
       "Gallup                 4.0\n",
       "Donna Tartt            3.9\n",
       "\n",
       "[248 rows x 1 columns]"
      ]
     },
     "execution_count": 14,
     "metadata": {},
     "output_type": "execute_result"
    }
   ],
   "source": [
    "group2 = data.groupby(\"author\").user_rating.agg(['mean'])\n",
    "group2.sort_values('mean', ascending=False)\n"
   ]
  },
  {
   "cell_type": "code",
   "execution_count": 16,
   "metadata": {},
   "outputs": [
    {
     "data": {
      "text/html": [
       "<div>\n",
       "<style scoped>\n",
       "    .dataframe tbody tr th:only-of-type {\n",
       "        vertical-align: middle;\n",
       "    }\n",
       "\n",
       "    .dataframe tbody tr th {\n",
       "        vertical-align: top;\n",
       "    }\n",
       "\n",
       "    .dataframe thead th {\n",
       "        text-align: right;\n",
       "    }\n",
       "</style>\n",
       "<table border=\"1\" class=\"dataframe\">\n",
       "  <thead>\n",
       "    <tr style=\"text-align: right;\">\n",
       "      <th></th>\n",
       "      <th>mean</th>\n",
       "    </tr>\n",
       "    <tr>\n",
       "      <th>author</th>\n",
       "      <th></th>\n",
       "    </tr>\n",
       "  </thead>\n",
       "  <tbody>\n",
       "    <tr>\n",
       "      <th>Donna Tartt</th>\n",
       "      <td>3.9</td>\n",
       "    </tr>\n",
       "  </tbody>\n",
       "</table>\n",
       "</div>"
      ],
      "text/plain": [
       "             mean\n",
       "author           \n",
       "Donna Tartt   3.9"
      ]
     },
     "execution_count": 16,
     "metadata": {},
     "output_type": "execute_result"
    }
   ],
   "source": [
    "#У якого автора середній рейтинг мінімальний? \n",
    "group2.loc[group2.idxmin()]"
   ]
  },
  {
   "cell_type": "code",
   "execution_count": 19,
   "metadata": {},
   "outputs": [
    {
     "data": {
      "text/html": [
       "<div>\n",
       "<style scoped>\n",
       "    .dataframe tbody tr th:only-of-type {\n",
       "        vertical-align: middle;\n",
       "    }\n",
       "\n",
       "    .dataframe tbody tr th {\n",
       "        vertical-align: top;\n",
       "    }\n",
       "\n",
       "    .dataframe thead th {\n",
       "        text-align: right;\n",
       "    }\n",
       "</style>\n",
       "<table border=\"1\" class=\"dataframe\">\n",
       "  <thead>\n",
       "    <tr style=\"text-align: right;\">\n",
       "      <th></th>\n",
       "      <th>author</th>\n",
       "      <th>books_count</th>\n",
       "      <th>average_rating</th>\n",
       "    </tr>\n",
       "  </thead>\n",
       "  <tbody>\n",
       "    <tr>\n",
       "      <th>0</th>\n",
       "      <td>Abraham Verghese</td>\n",
       "      <td>2</td>\n",
       "      <td>4.60</td>\n",
       "    </tr>\n",
       "    <tr>\n",
       "      <th>1</th>\n",
       "      <td>Adam Gasiewski</td>\n",
       "      <td>1</td>\n",
       "      <td>4.40</td>\n",
       "    </tr>\n",
       "    <tr>\n",
       "      <th>2</th>\n",
       "      <td>Adam Mansbach</td>\n",
       "      <td>1</td>\n",
       "      <td>4.80</td>\n",
       "    </tr>\n",
       "    <tr>\n",
       "      <th>3</th>\n",
       "      <td>Adir Levy</td>\n",
       "      <td>1</td>\n",
       "      <td>4.80</td>\n",
       "    </tr>\n",
       "    <tr>\n",
       "      <th>4</th>\n",
       "      <td>Admiral William H. McRaven</td>\n",
       "      <td>1</td>\n",
       "      <td>4.70</td>\n",
       "    </tr>\n",
       "    <tr>\n",
       "      <th>...</th>\n",
       "      <td>...</td>\n",
       "      <td>...</td>\n",
       "      <td>...</td>\n",
       "    </tr>\n",
       "    <tr>\n",
       "      <th>243</th>\n",
       "      <td>Walter Isaacson</td>\n",
       "      <td>3</td>\n",
       "      <td>4.57</td>\n",
       "    </tr>\n",
       "    <tr>\n",
       "      <th>244</th>\n",
       "      <td>William Davis</td>\n",
       "      <td>2</td>\n",
       "      <td>4.40</td>\n",
       "    </tr>\n",
       "    <tr>\n",
       "      <th>245</th>\n",
       "      <td>William P. Young</td>\n",
       "      <td>2</td>\n",
       "      <td>4.60</td>\n",
       "    </tr>\n",
       "    <tr>\n",
       "      <th>246</th>\n",
       "      <td>Wizards RPG Team</td>\n",
       "      <td>3</td>\n",
       "      <td>4.80</td>\n",
       "    </tr>\n",
       "    <tr>\n",
       "      <th>247</th>\n",
       "      <td>Zhi Gang Sha</td>\n",
       "      <td>2</td>\n",
       "      <td>4.60</td>\n",
       "    </tr>\n",
       "  </tbody>\n",
       "</table>\n",
       "<p>248 rows × 3 columns</p>\n",
       "</div>"
      ],
      "text/plain": [
       "                         author  books_count  average_rating\n",
       "0              Abraham Verghese            2            4.60\n",
       "1                Adam Gasiewski            1            4.40\n",
       "2                 Adam Mansbach            1            4.80\n",
       "3                     Adir Levy            1            4.80\n",
       "4    Admiral William H. McRaven            1            4.70\n",
       "..                          ...          ...             ...\n",
       "243             Walter Isaacson            3            4.57\n",
       "244               William Davis            2            4.40\n",
       "245            William P. Young            2            4.60\n",
       "246            Wizards RPG Team            3            4.80\n",
       "247                Zhi Gang Sha            2            4.60\n",
       "\n",
       "[248 rows x 3 columns]"
      ]
     },
     "execution_count": 19,
     "metadata": {},
     "output_type": "execute_result"
    }
   ],
   "source": [
    "#З*єднайте останні два датафрейми так, щоб для кожного автора\n",
    "group3 = pd.concat([df_9, group2], axis=1)\\\n",
    "    .rename(columns={\"mean\": \"average_rating\", \"count\": \"books_count\"})\\\n",
    "    .reset_index()\n",
    "\n",
    "group3['average_rating'] = group3['average_rating'].round(2)\n",
    "group3"
   ]
  },
  {
   "cell_type": "code",
   "execution_count": 21,
   "metadata": {},
   "outputs": [
    {
     "data": {
      "text/html": [
       "<div>\n",
       "<style scoped>\n",
       "    .dataframe tbody tr th:only-of-type {\n",
       "        vertical-align: middle;\n",
       "    }\n",
       "\n",
       "    .dataframe tbody tr th {\n",
       "        vertical-align: top;\n",
       "    }\n",
       "\n",
       "    .dataframe thead th {\n",
       "        text-align: right;\n",
       "    }\n",
       "</style>\n",
       "<table border=\"1\" class=\"dataframe\">\n",
       "  <thead>\n",
       "    <tr style=\"text-align: right;\">\n",
       "      <th></th>\n",
       "      <th>author</th>\n",
       "      <th>books_count</th>\n",
       "      <th>average_rating</th>\n",
       "    </tr>\n",
       "  </thead>\n",
       "  <tbody>\n",
       "    <tr>\n",
       "      <th>120</th>\n",
       "      <td>Jeff Kinney</td>\n",
       "      <td>12</td>\n",
       "      <td>4.8</td>\n",
       "    </tr>\n",
       "  </tbody>\n",
       "</table>\n",
       "</div>"
      ],
      "text/plain": [
       "          author  books_count  average_rating\n",
       "120  Jeff Kinney           12             4.8"
      ]
     },
     "execution_count": 21,
     "metadata": {},
     "output_type": "execute_result"
    }
   ],
   "source": [
    "group3.sort_values(by=[\"books_count\", \"average_rating\"], \n",
    "                       ascending=False, \n",
    "                       inplace=True)\n",
    "\n",
    "#Який автор перший у списку?\n",
    "_.head(1)"
   ]
  }
 ],
 "metadata": {
  "kernelspec": {
   "display_name": "Python 3",
   "language": "python",
   "name": "python3"
  },
  "language_info": {
   "codemirror_mode": {
    "name": "ipython",
    "version": 3
   },
   "file_extension": ".py",
   "mimetype": "text/x-python",
   "name": "python",
   "nbconvert_exporter": "python",
   "pygments_lexer": "ipython3",
   "version": "3.12.2"
  }
 },
 "nbformat": 4,
 "nbformat_minor": 2
}
